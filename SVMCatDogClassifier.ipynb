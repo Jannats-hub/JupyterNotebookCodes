{
 "cells": [
  {
   "cell_type": "code",
   "execution_count": 1,
   "id": "aeebf8f6-9ab8-471a-8579-2ea8120e183c",
   "metadata": {},
   "outputs": [],
   "source": [
    "import os\n",
    "import numpy as np\n",
    "import cv2\n",
    "import matplotlib.pyplot as plt\n",
    "import pickle\n",
    "import random\n",
    "from sklearn.model_selection import train_test_split\n",
    "from sklearn.svm import SVC"
   ]
  },
  {
   "cell_type": "code",
   "execution_count": 2,
   "id": "ab4c0c18-9303-4bf4-be49-817d83b651ac",
   "metadata": {},
   "outputs": [],
   "source": [
    "dir = 'C:/Users/Admin/Downloads/archive (2)/dogscats/train'"
   ]
  },
  {
   "cell_type": "code",
   "execution_count": 3,
   "id": "1e38e0fd-504b-43f3-8a38-f4227eea120f",
   "metadata": {},
   "outputs": [],
   "source": [
    "categories = ['cats', 'dogs']"
   ]
  },
  {
   "cell_type": "code",
   "execution_count": 4,
   "id": "3ce8a423-5683-4416-9ee7-9a52a0fda31d",
   "metadata": {},
   "outputs": [],
   "source": [
    "data = []"
   ]
  },
  {
   "cell_type": "code",
   "execution_count": 5,
   "id": "3db102c9-c5a7-47ae-bb9c-a367aa89a173",
   "metadata": {
    "panel-layout": {
     "height": 0,
     "visible": true,
     "width": 100
    }
   },
   "outputs": [],
   "source": [
    "for category in categories:\n",
    "    path = os.path.join(dir, category)\n",
    "    label = categories.index(category)\n",
    "\n",
    "    for img in os.listdir(path):\n",
    "        imgpath = os.path.join(path, img)\n",
    "        pet_img = cv2.imread(imgpath, 0)\n",
    "        try:\n",
    "            pet_img = cv2.resize(pet_img, (50,50))\n",
    "            image = np.array(pet_img).flatten()\n",
    "    \n",
    "            data.append([image, label])\n",
    "        except Exception as e:\n",
    "            pass"
   ]
  },
  {
   "cell_type": "code",
   "execution_count": 6,
   "id": "37784e04-52f1-4070-abb0-bd28d8d43660",
   "metadata": {},
   "outputs": [],
   "source": [
    "pick_in = open('data1.pickle', 'wb')\n",
    "pickle.dump(data, pick_in)\n",
    "pick_in.close()"
   ]
  },
  {
   "cell_type": "code",
   "execution_count": 7,
   "id": "40245418-46d9-4acb-b44e-a068cea3aab8",
   "metadata": {
    "panel-layout": {
     "height": 0,
     "visible": true,
     "width": 100
    }
   },
   "outputs": [],
   "source": [
    "pick_in = open('data1.pickle', 'rb')\n",
    "data = pickle.load(pick_in)\n",
    "pick_in.close()"
   ]
  },
  {
   "cell_type": "code",
   "execution_count": 8,
   "id": "36d32658-f4f8-4383-9925-f59b81b5db76",
   "metadata": {},
   "outputs": [],
   "source": [
    "random.shuffle(data)\n",
    "features = []\n",
    "labels = []"
   ]
  },
  {
   "cell_type": "code",
   "execution_count": 9,
   "id": "53b692c3-8e91-4d1e-a6bd-f7ad51fb0f5b",
   "metadata": {},
   "outputs": [],
   "source": [
    "for feature, label in data:\n",
    "    features.append(feature)\n",
    "    labels.append(label)"
   ]
  },
  {
   "cell_type": "code",
   "execution_count": 10,
   "id": "3677e8e2-1c60-46ad-b231-7d324a27fb3d",
   "metadata": {},
   "outputs": [],
   "source": [
    "xtrain, xtest, ytrain, ytest = train_test_split(features, labels, test_size = 0.01)"
   ]
  },
  {
   "cell_type": "code",
   "execution_count": null,
   "id": "7a4d460a-9f41-40c7-8c80-9e68500a2196",
   "metadata": {},
   "outputs": [],
   "source": [
    "model = SVC(C=1, kernel='poly', gamma='auto')\n",
    "model.fit(xtrain, ytrain)"
   ]
  },
  {
   "cell_type": "code",
   "execution_count": 14,
   "id": "fec86453-be45-4280-bd3c-3859352aeba3",
   "metadata": {},
   "outputs": [],
   "source": [
    "pick = open('model.sav', 'wb')\n",
    "pickle.dump(model, pick)\n",
    "pick.close()"
   ]
  },
  {
   "cell_type": "code",
   "execution_count": 15,
   "id": "11fb66dc-ab04-40d6-bb16-dd8e930bc8e5",
   "metadata": {},
   "outputs": [],
   "source": [
    "pick = open('model.sav', 'rb')\n",
    "model = pickle.load(pick)\n",
    "pick.close()"
   ]
  },
  {
   "cell_type": "code",
   "execution_count": 16,
   "id": "388a440f-1254-4834-92d7-a00a19295a22",
   "metadata": {},
   "outputs": [],
   "source": [
    "prediction = model.predict(xtest)"
   ]
  },
  {
   "cell_type": "code",
   "execution_count": 17,
   "id": "4f99ceb4-2554-438d-b40c-0b3210b7eddf",
   "metadata": {},
   "outputs": [],
   "source": [
    "accuracy = model.score(xtest, ytest)"
   ]
  },
  {
   "cell_type": "code",
   "execution_count": 18,
   "id": "9c2c9cd7-6fb4-4808-961f-6e40ce29f39a",
   "metadata": {},
   "outputs": [],
   "source": [
    "categories = ['cats', 'dogs']"
   ]
  },
  {
   "cell_type": "code",
   "execution_count": 19,
   "id": "757d843e-1a9c-49b9-a8d5-e774611400bb",
   "metadata": {},
   "outputs": [
    {
     "name": "stdout",
     "output_type": "stream",
     "text": [
      "Accuracy: 1.0\n"
     ]
    }
   ],
   "source": [
    "print('Accuracy:', accuracy)"
   ]
  },
  {
   "cell_type": "code",
   "execution_count": 20,
   "id": "594f323e-15d4-40c7-ac49-d8798745f1cd",
   "metadata": {},
   "outputs": [
    {
     "name": "stdout",
     "output_type": "stream",
     "text": [
      "Prediction is : dogs\n"
     ]
    }
   ],
   "source": [
    "print('Prediction is :', categories[prediction[0]])"
   ]
  },
  {
   "cell_type": "code",
   "execution_count": 21,
   "id": "fa463a1c-139b-468c-9ccb-2b699eefceb1",
   "metadata": {},
   "outputs": [
    {
     "data": {
      "image/png": "[encoded data removed]",
      "text/plain": [
       "<Figure size 640x480 with 1 Axes>"
      ]
     },
     "metadata": {},
     "output_type": "display_data"
    }
   ],
   "source": [
    "mypet = xtest[0].reshape(50,50)\n",
    "plt.imshow(mypet, cmap='gray')\n",
    "plt.show()"
   ]
  },
  {
   "cell_type": "code",
   "execution_count": null,
   "id": "862723a1-f005-46b1-aefc-f642a217cfb8",
   "metadata": {},
   "outputs": [],
   "source": []
  }
 ],
 "metadata": {
  "kernelspec": {
   "display_name": "Python 3 (ipykernel)",
   "language": "python",
   "name": "python3"
  },
  "language_info": {
   "codemirror_mode": {
    "name": "ipython",
    "version": 3
   },
   "file_extension": ".py",
   "mimetype": "text/x-python",
   "name": "python",
   "nbconvert_exporter": "python",
   "pygments_lexer": "ipython3",
   "version": "3.12.4"
  },
  "panel-cell-order": [
   "40245418-46d9-4acb-b44e-a068cea3aab8"
  ]
 },
 "nbformat": 4,
 "nbformat_minor": 5
}
